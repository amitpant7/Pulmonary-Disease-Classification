{
  "cells": [
    {
      "cell_type": "markdown",
      "metadata": {
        "id": "view-in-github",
        "colab_type": "text"
      },
      "source": [
        "<a href=\"https://colab.research.google.com/github/amitpant7/pulmonary-disease-classification/blob/main/basic_aug_resnet_train1.ipynb\" target=\"_parent\"><img src=\"https://colab.research.google.com/assets/colab-badge.svg\" alt=\"Open In Colab\"/></a>"
      ]
    },
    {
      "cell_type": "code",
      "execution_count": null,
      "metadata": {
        "colab": {
          "base_uri": "https://localhost:8080/"
        },
        "id": "BwTIpn9RaPTF",
        "outputId": "4f573f0b-9ade-4934-d77e-c29556c25d2e"
      },
      "outputs": [
        {
          "output_type": "stream",
          "name": "stdout",
          "text": [
            "Mounted at /content/drive\n"
          ]
        }
      ],
      "source": [
        "from google.colab import drive\n",
        "drive.mount('/content/drive')\n",
        "\n"
      ]
    },
    {
      "cell_type": "code",
      "execution_count": null,
      "metadata": {
        "id": "7hkEnzN8h14U"
      },
      "outputs": [],
      "source": [
        "# #Installing gpu for faster training\n",
        "# #Ensure GPU is selected in Runtime \n",
        "# !pip install tensorflow-gpu"
      ]
    },
    {
      "cell_type": "code",
      "execution_count": null,
      "metadata": {
        "colab": {
          "base_uri": "https://localhost:8080/"
        },
        "id": "5q4fuF8dKfum",
        "outputId": "b81bb56c-be25-411a-e355-1cc21b0db162"
      },
      "outputs": [
        {
          "output_type": "stream",
          "name": "stdout",
          "text": [
            "Thu Jan 19 16:12:30 2023       \n",
            "+-----------------------------------------------------------------------------+\n",
            "| NVIDIA-SMI 460.32.03    Driver Version: 460.32.03    CUDA Version: 11.2     |\n",
            "|-------------------------------+----------------------+----------------------+\n",
            "| GPU  Name        Persistence-M| Bus-Id        Disp.A | Volatile Uncorr. ECC |\n",
            "| Fan  Temp  Perf  Pwr:Usage/Cap|         Memory-Usage | GPU-Util  Compute M. |\n",
            "|                               |                      |               MIG M. |\n",
            "|===============================+======================+======================|\n",
            "|   0  Tesla T4            Off  | 00000000:00:04.0 Off |                    0 |\n",
            "| N/A   62C    P0    29W /  70W |      0MiB / 15109MiB |      0%      Default |\n",
            "|                               |                      |                  N/A |\n",
            "+-------------------------------+----------------------+----------------------+\n",
            "                                                                               \n",
            "+-----------------------------------------------------------------------------+\n",
            "| Processes:                                                                  |\n",
            "|  GPU   GI   CI        PID   Type   Process name                  GPU Memory |\n",
            "|        ID   ID                                                   Usage      |\n",
            "|=============================================================================|\n",
            "|  No running processes found                                                 |\n",
            "+-----------------------------------------------------------------------------+\n"
          ]
        }
      ],
      "source": [
        "#checking for tpu and gpu \n",
        "#print(\"TPU devices:\", tf.config.list_logical_devices('TPU'))\n",
        "!nvidia-smi"
      ]
    },
    {
      "cell_type": "markdown",
      "metadata": {
        "id": "79vF-scIb8Yr"
      },
      "source": [
        "# Importing all libraries. Add libraries here"
      ]
    },
    {
      "cell_type": "code",
      "execution_count": null,
      "metadata": {
        "colab": {
          "base_uri": "https://localhost:8080/"
        },
        "id": "m6hSdqkdb7O_",
        "outputId": "c8b6a516-0011-4d3c-db4f-a6becc1062c9"
      },
      "outputs": [
        {
          "output_type": "stream",
          "name": "stderr",
          "text": [
            "<ipython-input-3-3e3f1645ba12>:6: TqdmExperimentalWarning: Using `tqdm.autonotebook.tqdm` in notebook mode. Use `tqdm.tqdm` instead to force console mode (e.g. in jupyter console)\n",
            "  from tqdm.autonotebook import tqdm          #for creating libraries\n"
          ]
        }
      ],
      "source": [
        "import os \n",
        "import shutil\n",
        "import zipfile\n",
        "import requests\n",
        "import matplotlib.pyplot as plt\n",
        "from tqdm.autonotebook import tqdm          #for creating libraries  \n",
        "from matplotlib.font_manager import FontProperties\n",
        "\n",
        "%matplotlib inline\n",
        "os.chdir('/content/drive/MyDrive')\n"
      ]
    },
    {
      "cell_type": "code",
      "execution_count": null,
      "metadata": {
        "colab": {
          "base_uri": "https://localhost:8080/",
          "height": 36
        },
        "id": "ARzKCmym-vAx",
        "outputId": "f9291b80-14de-4db4-ae36-04ff661431b1"
      },
      "outputs": [
        {
          "data": {
            "application/vnd.google.colaboratory.intrinsic+json": {
              "type": "string"
            },
            "text/plain": [
              "'/content/drive/MyDrive'"
            ]
          },
          "execution_count": 6,
          "metadata": {},
          "output_type": "execute_result"
        }
      ],
      "source": [
        "os.getcwd()"
      ]
    },
    {
      "cell_type": "markdown",
      "metadata": {
        "id": "ssRPfv1WkptH"
      },
      "source": [
        "This code checks if the file is in the path. If it isn't, the code downlads the file from the URL."
      ]
    },
    {
      "cell_type": "code",
      "execution_count": null,
      "metadata": {
        "id": "C1bkEjX7aP8e"
      },
      "outputs": [],
      "source": [
        "# url = \"https://amitpant.com.np/dataset.zip\"\n",
        "# file_name = 'dataset.zip'\n",
        "\n",
        "# if not os.path.isfile(file_name):\n",
        "#   resp = requests.get(url)\n",
        "\n",
        "#   with open(file_name,'wb') as file:\n",
        "#     total_length = int(resp.headers.get('content-length'))\n",
        "#     progress_bar = tqdm(total=total_length, unit='iB', unit_scale=True)\n",
        "\n",
        "#     if total_length is None:\n",
        "#       for chunk in resp:\n",
        "#         file.write(chunk)\n",
        "\n",
        "#     else:\n",
        "#       length = 0\n",
        "#       total_length = int(total_length)\n",
        "\n",
        "#       for chunk in resp:\n",
        "#         progress_bar.update(len(chunk))\n",
        "#         file.write(chunk)\n",
        "\n",
        "# else:\n",
        "#   print(\"File exists.\")"
      ]
    },
    {
      "cell_type": "markdown",
      "metadata": {
        "id": "kGh3r1yfk9MP"
      },
      "source": [
        "The zip file contains 5 folders. If the folders are present in the working directory, the code returns exists. However, if any of the folders are missing, the code checks for the other folders and deletes them so that there are no duplicate folders. Then the zip file is extracted."
      ]
    },
    {
      "cell_type": "code",
      "execution_count": null,
      "metadata": {
        "id": "kz-3YlklqD0d"
      },
      "outputs": [],
      "source": [
        "# # to check if all files exists, extract the zip file if the files doesn't exist\n",
        "\n",
        "# Normal = os.path.join('Normal')\n",
        "# TB_qatar = os.path.join('Tuberculosis-quatar')\n",
        "# pnemo_png = os.path.join('pnemo_png')\n",
        "# tb_shenzen = os.path.join('tb-shenzen')\n",
        "# tb_montgomery = os.path.join('tb-montgomery')\n",
        "\n",
        "# file_list = [Normal,TB_qatar,pnemo_png,tb_shenzen,tb_montgomery]\n",
        "# flag = 0\n",
        "\n",
        "# for i in file_list:\n",
        "#   isExist = os.path.exists(i)\n",
        "#   print(i,'exists :' ,str(isExist))\n",
        "#   if not isExist:\n",
        "#     flag = 1\n",
        "\n",
        "# if (flag == 1): \n",
        "#   for i in file_list: \n",
        "#     try:\n",
        "#       shutil.rmtree(os.path.join(i))\n",
        "#     except OSError as e:\n",
        "#       print(\"Error: %s - %s.\" % (e.filename, e.strerror))\n",
        "\n",
        "#   print('Extracting Zip file:')\n",
        "#   with zipfile.ZipFile(file_name , 'r') as zip_ref:\n",
        "#     for member in tqdm(zip_ref.infolist(), desc='Extracting '):\n",
        "#       zip_ref.extract(member)\n"
      ]
    },
    {
      "cell_type": "markdown",
      "metadata": {
        "id": "KSTONCHR_U7H"
      },
      "source": [
        "This code deletes all lung related folders.\n",
        "\n",
        "import shutil\n",
        "\n",
        "Normal = os.path.join('Normal')\n",
        "TB_qatar = os.path.join('Tuberculosis-quatar')\n",
        "pnemo_png = os.path.join('pnemo_png')\n",
        "tb_shenzen = os.path.join('tb-shenzen')\n",
        "tb_montgomery = os.path.join('tb-montgomery')\n",
        "\n",
        "file_list = [Normal,TB_qatar,pnemo_png,tb_shenzen,tb_montgomery]\n",
        "for i in file_list: \n",
        "    try:\n",
        "      shutil.rmtree(os.path.join(i))\n",
        "    except OSError as e:\n",
        "      print(\"Error: %s - %s.\" % (e.filename, e.strerror))"
      ]
    },
    {
      "cell_type": "code",
      "execution_count": null,
      "metadata": {
        "id": "93sRd5c68kXk"
      },
      "outputs": [],
      "source": [
        "# Normal_dataset = len(os.listdir(Normal))\n",
        "# Pneumonia_dataset = len(os.listdir(pnemo_png))\n",
        "# TB_dataset = len(os.listdir(tb_shenzen))+len(os.listdir(tb_montgomery))+len(os.listdir(TB_qatar))\n"
      ]
    },
    {
      "cell_type": "code",
      "execution_count": null,
      "metadata": {
        "id": "Bhh985CqGO-y"
      },
      "outputs": [],
      "source": []
    },
    {
      "cell_type": "code",
      "execution_count": null,
      "metadata": {
        "id": "IJycb4LuaPyq"
      },
      "outputs": [],
      "source": [
        "# from matplotlib import font_manager\n",
        "# font_files = font_manager.findSystemFonts(fontpaths='/content/drive/MyDrive/Times New Roman', fontext='ttf')\n",
        "# for font_file in font_files:\n",
        "#     font_manager.fontManager.addfont(font_file)\n",
        "\n",
        "# plt.rcParams['font.family'] = ['Times New Roman']\n",
        "\n",
        "# plt.figure(dpi=600,figsize = (9, 4))\n",
        "# plt.title('Lung dataset')\n",
        "# plt.xlabel('Types of data')\n",
        "# plt.ylabel('No. of files')\n",
        "\n",
        "# x = ['No. of Healthy Lungs','No.of Pneumonia Infected Lungs','No. of Tb infected lungs']\n",
        "# y= [Normal_dataset,Pneumonia_dataset,TB_dataset]\n",
        "# bar_colors = ['blue','red','orange']\n",
        "# plt.bar(x,y)\n",
        "\n",
        "# for i in range(len(x)):\n",
        "#   plt.text(i,y[i],y[i],ha = 'center')\n",
        "\n",
        "# plt.show()\n"
      ]
    },
    {
      "cell_type": "code",
      "execution_count": null,
      "metadata": {
        "id": "tIL7u812a6GB"
      },
      "outputs": [],
      "source": [
        "# #Don't Run twice\n",
        "# #Change Dataset for 3 labels \n",
        "# !pwd \n",
        "# !mkdir tb \n",
        "# !mv pnemo_png pnemo #rename"
      ]
    },
    {
      "cell_type": "code",
      "execution_count": null,
      "metadata": {
        "id": "G9snZEtqJmS6"
      },
      "outputs": [],
      "source": [
        "# #Remove \n",
        "# #Move the images\n",
        "# !mv /content/drive/MyDrive/tb-montgomery/* tb \n",
        "# !mv /content/drive/MyDrive/tb-shenzen/* tb\n",
        "# !mv /content/drive/MyDrive/Tuberculosis-quatar/* tb\n"
      ]
    },
    {
      "cell_type": "code",
      "execution_count": null,
      "metadata": {
        "id": "1DTdgBGvKTY0"
      },
      "outputs": [],
      "source": [
        "# #Removing the directories\n",
        "# !rmdir /content/drive/MyDrive/tb-montgomery\n",
        "# !rmdir /content/drive/MyDrive/tb-shenzen\n",
        "# !rmdir /content/drive/MyDrive/Tuberculosis-quatar/\n"
      ]
    },
    {
      "cell_type": "code",
      "execution_count": null,
      "metadata": {
        "id": "6IiD8U4uMpI8"
      },
      "outputs": [],
      "source": [
        "# #Moving to one folder\n",
        "# !mkdir Dataset\n",
        "# !mv /content/drive/MyDrive/pnemo /content/drive/MyDrive/Dataset/\n",
        "# !mv /content/drive/MyDrive/tb /content/drive/MyDrive/Dataset/\n",
        "# !mv /content/drive/MyDrive/Normal /content/drive/MyDrive/Dataset/"
      ]
    },
    {
      "cell_type": "code",
      "execution_count": null,
      "metadata": {
        "id": "fYLXqiCEXXyb"
      },
      "outputs": [],
      "source": [
        "#For splitting data into train, val and test\n",
        "!pip install split-folders\n",
        "\n",
        "#Splitting the data \n",
        "import splitfolders as sf\n",
        "input_fold = '/content/drive/MyDrive/Dataset'\n",
        "sf.ratio(input_fold, output = '/content/drive/MyDrive/final_dataset',\n",
        "         seed = 112, \n",
        "         ratio = (0.7, 0.2, 0.1), \n",
        "         group_prefix = None, \n",
        "         move = True )\n",
        "\n",
        "#Removing old Directories \n",
        "!rmdir /content/drive/MyDrive/Dataset/Normal\n",
        "!rmdir /content/drive/MyDrive/Dataset/pnemo\n",
        "!rmdir /content/drive/MyDrive/Dataset/tb\n",
        "!rmdir /content/drive/MyDrive/Dataset"
      ]
    },
    {
      "cell_type": "code",
      "execution_count": null,
      "metadata": {
        "id": "-17oWndJQq50"
      },
      "outputs": [],
      "source": [
        "import tensorflow as tf\n",
        "from keras.activations import relu, linear\n",
        "from keras.layers import Dense, Flatten, Dropout\n",
        "from keras.models import Sequential \n",
        "from keras.applications import ResNet50"
      ]
    },
    {
      "cell_type": "code",
      "execution_count": null,
      "metadata": {
        "colab": {
          "base_uri": "https://localhost:8080/"
        },
        "id": "7iZu-F_bMzhb",
        "outputId": "1f013452-ac0c-4c8b-9a5f-cebf9adc5546"
      },
      "outputs": [
        {
          "output_type": "stream",
          "name": "stdout",
          "text": [
            "Found 12091 images belonging to 3 classes.\n",
            "Found 3454 images belonging to 3 classes.\n",
            "Found 1730 images belonging to 3 classes.\n"
          ]
        }
      ],
      "source": [
        "# # Creating Dataset \n",
        "# train_data = tf.keras.utils.image_dataset_from_directory(\n",
        "#     directory='/content/drive/MyDrive/final_dataset/train',\n",
        "#     labels ='inferred',\n",
        "#     label_mode = 'int',\n",
        "#     image_size=(224, 224),\n",
        "#     batch_size = 32\n",
        "# )\n",
        "\n",
        "# val_data = tf.keras.utils.image_dataset_from_directory(\n",
        "#     directory='/content/drive/MyDrive/final_dataset/val',\n",
        "#     labels ='inferred',\n",
        "#     label_mode = 'int',\n",
        "#     image_size=(224, 224),\n",
        "#     batch_size = 32\n",
        "# )\n",
        "\n",
        "# test_data = tf.keras.utils.image_dataset_from_directory(\n",
        "#     directory='/content/drive/MyDrive/final_dataset/test',\n",
        "#     labels ='inferred',\n",
        "#     label_mode = 'int',\n",
        "#     image_size=(224, 224),\n",
        "#     batch_size = 32\n",
        "# )\n",
        "\n",
        "# #Normalizing the dateset \n",
        "# def process(image, label):\n",
        "#   image = tf.cast(image/255., tf.float32)\n",
        "#   return image, label\n",
        "\n",
        "# train_set = train_data.map(process)\n",
        "# val_set = val_data.map(process)\n",
        "# test_set = test_data.map(process)\n",
        "\n",
        "\n",
        "#applying Image agumentation \n",
        "\n",
        "from keras.preprocessing.image import ImageDataGenerator\n",
        "\n",
        "# Create an instance of the ImageDataGenerator\n",
        "train_datagen = ImageDataGenerator(\n",
        "    rescale=1./255,\n",
        "    rotation_range=10,\n",
        "    width_shift_range=0.2,\n",
        "    height_shift_range=0.2,\n",
        "    shear_range=0.2,\n",
        "    zoom_range=0.2,\n",
        "    horizontal_flip=True,)\n",
        "\n",
        "test_datagen = ImageDataGenerator(rescale=1./255)\n",
        "\n",
        "# Generate augmented images from a directory of images\n",
        "# Replace 'path_to_images' with the path to your images\n",
        "train_set= train_datagen.flow_from_directory(\n",
        "    '/content/drive/MyDrive/final_dataset/train',\n",
        "    target_size=(224, 224),\n",
        "    batch_size=32,\n",
        "    shuffle=True,\n",
        "    class_mode='sparse',   \n",
        "    seed=15)\n",
        "\n",
        "val_set= test_datagen.flow_from_directory(\n",
        "    '/content/drive/MyDrive/final_dataset/val',\n",
        "    target_size=(224, 224),\n",
        "    batch_size=32,\n",
        "     shuffle=True,\n",
        "    class_mode='sparse',\n",
        "       seed=15)\n",
        "\n",
        "test_set= test_datagen.flow_from_directory(\n",
        "    '/content/drive/MyDrive/final_dataset/test',\n",
        "    target_size=(224, 224),\n",
        "    batch_size=32,\n",
        "     shuffle=True,\n",
        "    class_mode='sparse',\n",
        "       seed=15)\n"
      ]
    },
    {
      "cell_type": "markdown",
      "metadata": {
        "id": "1A-ZkSILG_y5"
      },
      "source": [
        "**Working with resnet50, Importing and freezing the layers and adding own layers**"
      ]
    },
    {
      "cell_type": "code",
      "execution_count": null,
      "metadata": {
        "colab": {
          "base_uri": "https://localhost:8080/"
        },
        "id": "_Kql37D2VmyH",
        "outputId": "9909b12d-8cec-401f-a637-59f187adee42"
      },
      "outputs": [
        {
          "output_type": "stream",
          "name": "stdout",
          "text": [
            "Downloading data from https://storage.googleapis.com/tensorflow/keras-applications/resnet/resnet50_weights_tf_dim_ordering_tf_kernels_notop.h5\n",
            "94765736/94765736 [==============================] - 0s 0us/step\n"
          ]
        }
      ],
      "source": [
        "#Importing resnet50,preparing the base convolution \n",
        "conv_base = ResNet50(\n",
        "    weights= 'imagenet',\n",
        "    include_top = False,\n",
        "    input_shape = (224, 224,3))\n",
        "conv_base.trainable = False"
      ]
    },
    {
      "cell_type": "code",
      "execution_count": null,
      "metadata": {
        "id": "qYz0GO-EHc8X"
      },
      "outputs": [],
      "source": [
        "#Analyzing the base\n",
        "conv_base.summary()\n",
        "\n",
        "#It will take a (224, 224,3 ) image and use diffrent convolutions with skip conncections and will produce a (7, 7, 2048) output"
      ]
    },
    {
      "cell_type": "code",
      "execution_count": null,
      "metadata": {
        "id": "p4Hh6PLcH1Cf"
      },
      "outputs": [],
      "source": [
        "#Preaparing our model \n",
        "from keras.layers import BatchNormalization\n",
        "\n",
        "model_r = Sequential()\n",
        "model_r.add(conv_base)\n",
        "#model_r.add(tf.keras.layers.GlobalAveragePooling2D())\n",
        "model_r.add(Flatten())\n",
        "model_r.add(BatchNormalization())\n",
        "model_r.add(Dense(512, activation='relu'))\n",
        "model_r.add(Dropout(0.2))\n",
        "model_r.add(BatchNormalization())\n",
        "model_r.add(Dense(64, activation='relu'))\n",
        "model_r.add(Dropout(0.2))\n",
        "model_r.add(BatchNormalization())\n",
        "model_r.add(Dense(3, activation= 'linear'))\n"
      ]
    },
    {
      "cell_type": "code",
      "execution_count": null,
      "metadata": {
        "colab": {
          "base_uri": "https://localhost:8080/"
        },
        "id": "kVCL2jH0MFUt",
        "outputId": "54b8e83d-0154-4751-c0e7-ceefeaa6146e"
      },
      "outputs": [
        {
          "output_type": "stream",
          "name": "stdout",
          "text": [
            "Model: \"sequential_2\"\n",
            "_________________________________________________________________\n",
            " Layer (type)                Output Shape              Param #   \n",
            "=================================================================\n",
            " resnet50 (Functional)       (None, 7, 7, 2048)        23587712  \n",
            "                                                                 \n",
            " global_average_pooling2d_1   (None, 2048)             0         \n",
            " (GlobalAveragePooling2D)                                        \n",
            "                                                                 \n",
            " flatten_2 (Flatten)         (None, 2048)              0         \n",
            "                                                                 \n",
            " batch_normalization (BatchN  (None, 2048)             8192      \n",
            " ormalization)                                                   \n",
            "                                                                 \n",
            " dense_6 (Dense)             (None, 512)               1049088   \n",
            "                                                                 \n",
            " dropout_6 (Dropout)         (None, 512)               0         \n",
            "                                                                 \n",
            " batch_normalization_1 (Batc  (None, 512)              2048      \n",
            " hNormalization)                                                 \n",
            "                                                                 \n",
            " dense_7 (Dense)             (None, 64)                32832     \n",
            "                                                                 \n",
            " dropout_7 (Dropout)         (None, 64)                0         \n",
            "                                                                 \n",
            " batch_normalization_2 (Batc  (None, 64)               256       \n",
            " hNormalization)                                                 \n",
            "                                                                 \n",
            " dense_8 (Dense)             (None, 3)                 195       \n",
            "                                                                 \n",
            "=================================================================\n",
            "Total params: 24,680,323\n",
            "Trainable params: 1,087,363\n",
            "Non-trainable params: 23,592,960\n",
            "_________________________________________________________________\n"
          ]
        }
      ],
      "source": [
        "model_r.summary()"
      ]
    },
    {
      "cell_type": "code",
      "execution_count": null,
      "metadata": {
        "id": "-98VQB6lMROA"
      },
      "outputs": [],
      "source": [
        "from keras.optimizers import Adam\n",
        "from keras.callbacks import EarlyStopping, ModelCheckpoint\n",
        "call  = [\n",
        "      ModelCheckpoint('/content/drive/MyDrive/resnet_model_best.h5', monitor='val_loss', save_best_only=True, mode='min')\n",
        "]\n",
        "\n",
        "model_r.compile(loss= tf.keras.losses.SparseCategoricalCrossentropy(from_logits=True), \n",
        "              optimizer='adam',\n",
        "             metrics=['accuracy'],\n",
        "              )"
      ]
    },
    {
      "cell_type": "code",
      "execution_count": null,
      "metadata": {
        "colab": {
          "base_uri": "https://localhost:8080/"
        },
        "id": "Hk6L_GGSNQyL",
        "outputId": "cbb78ff8-d890-432a-a3e0-031bb24ce500"
      },
      "outputs": [
        {
          "output_type": "stream",
          "name": "stdout",
          "text": [
            "Epoch 1/7\n",
            "378/378 [==============================] - 344s 790ms/step - loss: 0.9051 - accuracy: 0.6185 - val_loss: 0.8438 - val_accuracy: 0.6028\n",
            "Epoch 2/7\n",
            "378/378 [==============================] - 307s 812ms/step - loss: 0.7521 - accuracy: 0.6675 - val_loss: 0.6950 - val_accuracy: 0.6798\n",
            "Epoch 3/7\n",
            "378/378 [==============================] - 306s 809ms/step - loss: 0.7052 - accuracy: 0.6801 - val_loss: 0.6749 - val_accuracy: 0.7006\n",
            "Epoch 4/7\n",
            "378/378 [==============================] - 303s 801ms/step - loss: 0.6841 - accuracy: 0.6933 - val_loss: 0.6497 - val_accuracy: 0.7224\n",
            "Epoch 5/7\n",
            "378/378 [==============================] - 296s 783ms/step - loss: 0.6727 - accuracy: 0.6925 - val_loss: 0.6532 - val_accuracy: 0.7047\n",
            "Epoch 6/7\n",
            "378/378 [==============================] - 304s 803ms/step - loss: 0.6675 - accuracy: 0.7023 - val_loss: 0.6479 - val_accuracy: 0.7160\n",
            "Epoch 7/7\n",
            "378/378 [==============================] - 305s 808ms/step - loss: 0.6550 - accuracy: 0.7044 - val_loss: 0.6424 - val_accuracy: 0.7099\n"
          ]
        }
      ],
      "source": [
        "#Training the Data, training with gpu\n",
        "with tf.device('/device:GPU:0'):\n",
        "  history = model_r.fit(train_set, validation_data = val_set,  epochs =7, callbacks =call)"
      ]
    },
    {
      "cell_type": "code",
      "execution_count": null,
      "metadata": {
        "id": "fG8ooQJNNwcN",
        "colab": {
          "base_uri": "https://localhost:8080/",
          "height": 279
        },
        "outputId": "6283ca81-bd21-4d4c-9084-71865e21ff1f"
      },
      "outputs": [
        {
          "output_type": "display_data",
          "data": {
            "text/plain": [
              "<Figure size 432x288 with 1 Axes>"
            ],
            "image/png": "[encoded data removed]"
          },
          "metadata": {
            "needs_background": "light"
          }
        }
      ],
      "source": [
        "#Plotting Accuracy\n",
        "import matplotlib.pyplot as plt \n",
        "plt.plot(history.history['accuracy'], color= 'red', label = 'train')\n",
        "plt.plot(history.history['val_accuracy'], color = 'blue', label = 'Validation')\n",
        "plt.xlabel('No of Epochs')\n",
        "plt.ylabel('Accuracy on test set and val set')\n",
        "plt.legend()\n",
        "plt.show()"
      ]
    },
    {
      "cell_type": "code",
      "execution_count": null,
      "metadata": {
        "id": "dlRAI9SdN1DQ",
        "colab": {
          "base_uri": "https://localhost:8080/",
          "height": 279
        },
        "outputId": "e83ca022-7812-4261-ab4b-fe30e171f10b"
      },
      "outputs": [
        {
          "output_type": "display_data",
          "data": {
            "text/plain": [
              "<Figure size 432x288 with 1 Axes>"
            ],
            "image/png": "[encoded data removed]"
          },
          "metadata": {
            "needs_background": "light"
          }
        }
      ],
      "source": [
        "#Plotting Loss\n",
        "plt.plot(history.history['loss'], color= 'red', label = 'train')\n",
        "plt.plot(history.history['val_loss'], color = 'blue', label = 'train')\n",
        "plt.xlabel('No of Epochs')\n",
        "plt.ylabel('Loss on test set and validation set')\n",
        "plt.legend()\n",
        "plt.show()"
      ]
    },
    {
      "cell_type": "code",
      "execution_count": null,
      "metadata": {
        "id": "GG0rpMekQtFh"
      },
      "outputs": [],
      "source": [
        "tf.keras.models.save_model(model_r,'/content/drive/MyDrive/resnet_model.h5')"
      ]
    },
    {
      "cell_type": "code",
      "execution_count": null,
      "metadata": {
        "id": "BHgXItiwBcyz",
        "colab": {
          "base_uri": "https://localhost:8080/",
          "height": 338
        },
        "outputId": "6373702e-5fd0-420c-bba0-afb2d9fc7b88"
      },
      "outputs": [
        {
          "output_type": "stream",
          "name": "stdout",
          "text": [
            "35/55 [==================>...........] - ETA: 3:37 - loss: 0.6248 - accuracy: 0.7277"
          ]
        },
        {
          "output_type": "error",
          "ename": "KeyboardInterrupt",
          "evalue": "ignored",
          "traceback": [
            "\u001b[0;31m---------------------------------------------------------------------------\u001b[0m",
            "\u001b[0;31mKeyboardInterrupt\u001b[0m                         Traceback (most recent call last)",
            "\u001b[0;32m<ipython-input-31-940def7a6010>\u001b[0m in \u001b[0;36m<module>\u001b[0;34m\u001b[0m\n\u001b[0;32m----> 1\u001b[0;31m \u001b[0mscore_r\u001b[0m \u001b[0;34m=\u001b[0m \u001b[0mmodel_r\u001b[0m\u001b[0;34m.\u001b[0m\u001b[0mevaluate\u001b[0m\u001b[0;34m(\u001b[0m\u001b[0mtest_set\u001b[0m\u001b[0;34m)\u001b[0m\u001b[0;34m\u001b[0m\u001b[0;34m\u001b[0m\u001b[0m\n\u001b[0m",
            "\u001b[0;32m/usr/local/lib/python3.8/dist-packages/keras/utils/traceback_utils.py\u001b[0m in \u001b[0;36merror_handler\u001b[0;34m(*args, **kwargs)\u001b[0m\n\u001b[1;32m     62\u001b[0m     \u001b[0mfiltered_tb\u001b[0m \u001b[0;34m=\u001b[0m \u001b[0;32mNone\u001b[0m\u001b[0;34m\u001b[0m\u001b[0;34m\u001b[0m\u001b[0m\n\u001b[1;32m     63\u001b[0m     \u001b[0;32mtry\u001b[0m\u001b[0;34m:\u001b[0m\u001b[0;34m\u001b[0m\u001b[0;34m\u001b[0m\u001b[0m\n\u001b[0;32m---> 64\u001b[0;31m       \u001b[0;32mreturn\u001b[0m \u001b[0mfn\u001b[0m\u001b[0;34m(\u001b[0m\u001b[0;34m*\u001b[0m\u001b[0margs\u001b[0m\u001b[0;34m,\u001b[0m \u001b[0;34m**\u001b[0m\u001b[0mkwargs\u001b[0m\u001b[0;34m)\u001b[0m\u001b[0;34m\u001b[0m\u001b[0;34m\u001b[0m\u001b[0m\n\u001b[0m\u001b[1;32m     65\u001b[0m     \u001b[0;32mexcept\u001b[0m \u001b[0mException\u001b[0m \u001b[0;32mas\u001b[0m \u001b[0me\u001b[0m\u001b[0;34m:\u001b[0m  \u001b[0;31m# pylint: disable=broad-except\u001b[0m\u001b[0;34m\u001b[0m\u001b[0;34m\u001b[0m\u001b[0m\n\u001b[1;32m     66\u001b[0m       \u001b[0mfiltered_tb\u001b[0m \u001b[0;34m=\u001b[0m \u001b[0m_process_traceback_frames\u001b[0m\u001b[0;34m(\u001b[0m\u001b[0me\u001b[0m\u001b[0;34m.\u001b[0m\u001b[0m__traceback__\u001b[0m\u001b[0;34m)\u001b[0m\u001b[0;34m\u001b[0m\u001b[0;34m\u001b[0m\u001b[0m\n",
            "\u001b[0;32m/usr/local/lib/python3.8/dist-packages/keras/engine/training.py\u001b[0m in \u001b[0;36mevaluate\u001b[0;34m(self, x, y, batch_size, verbose, sample_weight, steps, callbacks, max_queue_size, workers, use_multiprocessing, return_dict, **kwargs)\u001b[0m\n\u001b[1;32m   1754\u001b[0m             \u001b[0;32mwith\u001b[0m \u001b[0mtf\u001b[0m\u001b[0;34m.\u001b[0m\u001b[0mprofiler\u001b[0m\u001b[0;34m.\u001b[0m\u001b[0mexperimental\u001b[0m\u001b[0;34m.\u001b[0m\u001b[0mTrace\u001b[0m\u001b[0;34m(\u001b[0m\u001b[0;34m'test'\u001b[0m\u001b[0;34m,\u001b[0m \u001b[0mstep_num\u001b[0m\u001b[0;34m=\u001b[0m\u001b[0mstep\u001b[0m\u001b[0;34m,\u001b[0m \u001b[0m_r\u001b[0m\u001b[0;34m=\u001b[0m\u001b[0;36m1\u001b[0m\u001b[0;34m)\u001b[0m\u001b[0;34m:\u001b[0m\u001b[0;34m\u001b[0m\u001b[0;34m\u001b[0m\u001b[0m\n\u001b[1;32m   1755\u001b[0m               \u001b[0mcallbacks\u001b[0m\u001b[0;34m.\u001b[0m\u001b[0mon_test_batch_begin\u001b[0m\u001b[0;34m(\u001b[0m\u001b[0mstep\u001b[0m\u001b[0;34m)\u001b[0m\u001b[0;34m\u001b[0m\u001b[0;34m\u001b[0m\u001b[0m\n\u001b[0;32m-> 1756\u001b[0;31m               \u001b[0mtmp_logs\u001b[0m \u001b[0;34m=\u001b[0m \u001b[0mself\u001b[0m\u001b[0;34m.\u001b[0m\u001b[0mtest_function\u001b[0m\u001b[0;34m(\u001b[0m\u001b[0miterator\u001b[0m\u001b[0;34m)\u001b[0m\u001b[0;34m\u001b[0m\u001b[0;34m\u001b[0m\u001b[0m\n\u001b[0m\u001b[1;32m   1757\u001b[0m               \u001b[0;32mif\u001b[0m \u001b[0mdata_handler\u001b[0m\u001b[0;34m.\u001b[0m\u001b[0mshould_sync\u001b[0m\u001b[0;34m:\u001b[0m\u001b[0;34m\u001b[0m\u001b[0;34m\u001b[0m\u001b[0m\n\u001b[1;32m   1758\u001b[0m                 \u001b[0mcontext\u001b[0m\u001b[0;34m.\u001b[0m\u001b[0masync_wait\u001b[0m\u001b[0;34m(\u001b[0m\u001b[0;34m)\u001b[0m\u001b[0;34m\u001b[0m\u001b[0;34m\u001b[0m\u001b[0m\n",
            "\u001b[0;32m/usr/local/lib/python3.8/dist-packages/tensorflow/python/util/traceback_utils.py\u001b[0m in \u001b[0;36merror_handler\u001b[0;34m(*args, **kwargs)\u001b[0m\n\u001b[1;32m    148\u001b[0m     \u001b[0mfiltered_tb\u001b[0m \u001b[0;34m=\u001b[0m \u001b[0;32mNone\u001b[0m\u001b[0;34m\u001b[0m\u001b[0;34m\u001b[0m\u001b[0m\n\u001b[1;32m    149\u001b[0m     \u001b[0;32mtry\u001b[0m\u001b[0;34m:\u001b[0m\u001b[0;34m\u001b[0m\u001b[0;34m\u001b[0m\u001b[0m\n\u001b[0;32m--> 150\u001b[0;31m       \u001b[0;32mreturn\u001b[0m \u001b[0mfn\u001b[0m\u001b[0;34m(\u001b[0m\u001b[0;34m*\u001b[0m\u001b[0margs\u001b[0m\u001b[0;34m,\u001b[0m \u001b[0;34m**\u001b[0m\u001b[0mkwargs\u001b[0m\u001b[0;34m)\u001b[0m\u001b[0;34m\u001b[0m\u001b[0;34m\u001b[0m\u001b[0m\n\u001b[0m\u001b[1;32m    151\u001b[0m     \u001b[0;32mexcept\u001b[0m \u001b[0mException\u001b[0m \u001b[0;32mas\u001b[0m \u001b[0me\u001b[0m\u001b[0;34m:\u001b[0m\u001b[0;34m\u001b[0m\u001b[0;34m\u001b[0m\u001b[0m\n\u001b[1;32m    152\u001b[0m       \u001b[0mfiltered_tb\u001b[0m \u001b[0;34m=\u001b[0m \u001b[0m_process_traceback_frames\u001b[0m\u001b[0;34m(\u001b[0m\u001b[0me\u001b[0m\u001b[0;34m.\u001b[0m\u001b[0m__traceback__\u001b[0m\u001b[0;34m)\u001b[0m\u001b[0;34m\u001b[0m\u001b[0;34m\u001b[0m\u001b[0m\n",
            "\u001b[0;32m/usr/local/lib/python3.8/dist-packages/tensorflow/python/eager/def_function.py\u001b[0m in \u001b[0;36m__call__\u001b[0;34m(self, *args, **kwds)\u001b[0m\n\u001b[1;32m    913\u001b[0m \u001b[0;34m\u001b[0m\u001b[0m\n\u001b[1;32m    914\u001b[0m       \u001b[0;32mwith\u001b[0m \u001b[0mOptionalXlaContext\u001b[0m\u001b[0;34m(\u001b[0m\u001b[0mself\u001b[0m\u001b[0;34m.\u001b[0m\u001b[0m_jit_compile\u001b[0m\u001b[0;34m)\u001b[0m\u001b[0;34m:\u001b[0m\u001b[0;34m\u001b[0m\u001b[0;34m\u001b[0m\u001b[0m\n\u001b[0;32m--> 915\u001b[0;31m         \u001b[0mresult\u001b[0m \u001b[0;34m=\u001b[0m \u001b[0mself\u001b[0m\u001b[0;34m.\u001b[0m\u001b[0m_call\u001b[0m\u001b[0;34m(\u001b[0m\u001b[0;34m*\u001b[0m\u001b[0margs\u001b[0m\u001b[0;34m,\u001b[0m \u001b[0;34m**\u001b[0m\u001b[0mkwds\u001b[0m\u001b[0;34m)\u001b[0m\u001b[0;34m\u001b[0m\u001b[0;34m\u001b[0m\u001b[0m\n\u001b[0m\u001b[1;32m    916\u001b[0m \u001b[0;34m\u001b[0m\u001b[0m\n\u001b[1;32m    917\u001b[0m       \u001b[0mnew_tracing_count\u001b[0m \u001b[0;34m=\u001b[0m \u001b[0mself\u001b[0m\u001b[0;34m.\u001b[0m\u001b[0mexperimental_get_tracing_count\u001b[0m\u001b[0;34m(\u001b[0m\u001b[0;34m)\u001b[0m\u001b[0;34m\u001b[0m\u001b[0;34m\u001b[0m\u001b[0m\n",
            "\u001b[0;32m/usr/local/lib/python3.8/dist-packages/tensorflow/python/eager/def_function.py\u001b[0m in \u001b[0;36m_call\u001b[0;34m(self, *args, **kwds)\u001b[0m\n\u001b[1;32m    952\u001b[0m       \u001b[0;31m# In this case we have not created variables on the first call. So we can\u001b[0m\u001b[0;34m\u001b[0m\u001b[0;34m\u001b[0m\u001b[0;34m\u001b[0m\u001b[0m\n\u001b[1;32m    953\u001b[0m       \u001b[0;31m# run the first trace but we should fail if variables are created.\u001b[0m\u001b[0;34m\u001b[0m\u001b[0;34m\u001b[0m\u001b[0;34m\u001b[0m\u001b[0m\n\u001b[0;32m--> 954\u001b[0;31m       \u001b[0mresults\u001b[0m \u001b[0;34m=\u001b[0m \u001b[0mself\u001b[0m\u001b[0;34m.\u001b[0m\u001b[0m_stateful_fn\u001b[0m\u001b[0;34m(\u001b[0m\u001b[0;34m*\u001b[0m\u001b[0margs\u001b[0m\u001b[0;34m,\u001b[0m \u001b[0;34m**\u001b[0m\u001b[0mkwds\u001b[0m\u001b[0;34m)\u001b[0m\u001b[0;34m\u001b[0m\u001b[0;34m\u001b[0m\u001b[0m\n\u001b[0m\u001b[1;32m    955\u001b[0m       \u001b[0;32mif\u001b[0m \u001b[0mself\u001b[0m\u001b[0;34m.\u001b[0m\u001b[0m_created_variables\u001b[0m \u001b[0;32mand\u001b[0m \u001b[0;32mnot\u001b[0m \u001b[0mALLOW_DYNAMIC_VARIABLE_CREATION\u001b[0m\u001b[0;34m:\u001b[0m\u001b[0;34m\u001b[0m\u001b[0;34m\u001b[0m\u001b[0m\n\u001b[1;32m    956\u001b[0m         raise ValueError(\"Creating variables on a non-first call to a function\"\n",
            "\u001b[0;32m/usr/local/lib/python3.8/dist-packages/tensorflow/python/eager/function.py\u001b[0m in \u001b[0;36m__call__\u001b[0;34m(self, *args, **kwargs)\u001b[0m\n\u001b[1;32m   2451\u001b[0m       (graph_function,\n\u001b[1;32m   2452\u001b[0m        filtered_flat_args) = self._maybe_define_function(args, kwargs)\n\u001b[0;32m-> 2453\u001b[0;31m     return graph_function._call_flat(\n\u001b[0m\u001b[1;32m   2454\u001b[0m         filtered_flat_args, captured_inputs=graph_function.captured_inputs)  # pylint: disable=protected-access\n\u001b[1;32m   2455\u001b[0m \u001b[0;34m\u001b[0m\u001b[0m\n",
            "\u001b[0;32m/usr/local/lib/python3.8/dist-packages/tensorflow/python/eager/function.py\u001b[0m in \u001b[0;36m_call_flat\u001b[0;34m(self, args, captured_inputs, cancellation_manager)\u001b[0m\n\u001b[1;32m   1858\u001b[0m         and executing_eagerly):\n\u001b[1;32m   1859\u001b[0m       \u001b[0;31m# No tape is watching; skip to running the function.\u001b[0m\u001b[0;34m\u001b[0m\u001b[0;34m\u001b[0m\u001b[0;34m\u001b[0m\u001b[0m\n\u001b[0;32m-> 1860\u001b[0;31m       return self._build_call_outputs(self._inference_function.call(\n\u001b[0m\u001b[1;32m   1861\u001b[0m           ctx, args, cancellation_manager=cancellation_manager))\n\u001b[1;32m   1862\u001b[0m     forward_backward = self._select_forward_and_backward_functions(\n",
            "\u001b[0;32m/usr/local/lib/python3.8/dist-packages/tensorflow/python/eager/function.py\u001b[0m in \u001b[0;36mcall\u001b[0;34m(self, ctx, args, cancellation_manager)\u001b[0m\n\u001b[1;32m    495\u001b[0m       \u001b[0;32mwith\u001b[0m \u001b[0m_InterpolateFunctionError\u001b[0m\u001b[0;34m(\u001b[0m\u001b[0mself\u001b[0m\u001b[0;34m)\u001b[0m\u001b[0;34m:\u001b[0m\u001b[0;34m\u001b[0m\u001b[0;34m\u001b[0m\u001b[0m\n\u001b[1;32m    496\u001b[0m         \u001b[0;32mif\u001b[0m \u001b[0mcancellation_manager\u001b[0m \u001b[0;32mis\u001b[0m \u001b[0;32mNone\u001b[0m\u001b[0;34m:\u001b[0m\u001b[0;34m\u001b[0m\u001b[0;34m\u001b[0m\u001b[0m\n\u001b[0;32m--> 497\u001b[0;31m           outputs = execute.execute(\n\u001b[0m\u001b[1;32m    498\u001b[0m               \u001b[0mstr\u001b[0m\u001b[0;34m(\u001b[0m\u001b[0mself\u001b[0m\u001b[0;34m.\u001b[0m\u001b[0msignature\u001b[0m\u001b[0;34m.\u001b[0m\u001b[0mname\u001b[0m\u001b[0;34m)\u001b[0m\u001b[0;34m,\u001b[0m\u001b[0;34m\u001b[0m\u001b[0;34m\u001b[0m\u001b[0m\n\u001b[1;32m    499\u001b[0m               \u001b[0mnum_outputs\u001b[0m\u001b[0;34m=\u001b[0m\u001b[0mself\u001b[0m\u001b[0;34m.\u001b[0m\u001b[0m_num_outputs\u001b[0m\u001b[0;34m,\u001b[0m\u001b[0;34m\u001b[0m\u001b[0;34m\u001b[0m\u001b[0m\n",
            "\u001b[0;32m/usr/local/lib/python3.8/dist-packages/tensorflow/python/eager/execute.py\u001b[0m in \u001b[0;36mquick_execute\u001b[0;34m(op_name, num_outputs, inputs, attrs, ctx, name)\u001b[0m\n\u001b[1;32m     52\u001b[0m   \u001b[0;32mtry\u001b[0m\u001b[0;34m:\u001b[0m\u001b[0;34m\u001b[0m\u001b[0;34m\u001b[0m\u001b[0m\n\u001b[1;32m     53\u001b[0m     \u001b[0mctx\u001b[0m\u001b[0;34m.\u001b[0m\u001b[0mensure_initialized\u001b[0m\u001b[0;34m(\u001b[0m\u001b[0;34m)\u001b[0m\u001b[0;34m\u001b[0m\u001b[0;34m\u001b[0m\u001b[0m\n\u001b[0;32m---> 54\u001b[0;31m     tensors = pywrap_tfe.TFE_Py_Execute(ctx._handle, device_name, op_name,\n\u001b[0m\u001b[1;32m     55\u001b[0m                                         inputs, attrs, num_outputs)\n\u001b[1;32m     56\u001b[0m   \u001b[0;32mexcept\u001b[0m \u001b[0mcore\u001b[0m\u001b[0;34m.\u001b[0m\u001b[0m_NotOkStatusException\u001b[0m \u001b[0;32mas\u001b[0m \u001b[0me\u001b[0m\u001b[0;34m:\u001b[0m\u001b[0;34m\u001b[0m\u001b[0;34m\u001b[0m\u001b[0m\n",
            "\u001b[0;31mKeyboardInterrupt\u001b[0m: "
          ]
        }
      ],
      "source": [
        "score_r = model_r.evaluate(test_set)\n"
      ]
    },
    {
      "cell_type": "markdown",
      "source": [
        "#Incpetion V3 training \n"
      ],
      "metadata": {
        "id": "DxgmJsE1HCLX"
      }
    },
    {
      "cell_type": "code",
      "source": [
        "# Creating Dataset \n",
        "train_data = tf.keras.utils.image_dataset_from_directory(\n",
        "    directory='/kaggle/input/pnemonia-tb-dataset/final_dataset/train',\n",
        "    labels ='inferred',\n",
        "    label_mode = 'int',\n",
        "    image_size=(229, 229),\n",
        "    batch_size = 32\n",
        ")\n",
        "\n",
        "val_data = tf.keras.utils.image_dataset_from_directory(\n",
        "    directory='/kaggle/input/pnemonia-tb-dataset/final_dataset/val',\n",
        "    labels ='inferred',\n",
        "    label_mode = 'int',\n",
        "    image_size=(229, 229),\n",
        "    batch_size = 32\n",
        ")\n",
        "\n",
        "test_data = tf.keras.utils.image_dataset_from_directory(\n",
        "    directory='/kaggle/input/pnemonia-tb-dataset/final_dataset/test',\n",
        "    labels ='inferred',\n",
        "    label_mode = 'int',\n",
        "    image_size=(229, 229),\n",
        "    batch_size = 32\n",
        ")"
      ],
      "metadata": {
        "id": "DYYUx1nCT6e1"
      },
      "execution_count": null,
      "outputs": []
    },
    {
      "cell_type": "code",
      "source": [
        "base_model = tf.keras.applications.InceptionV3(\n",
        "    include_top=False,\n",
        "    weights=\"imagenet\",\n",
        "    input_tensor=None,\n",
        "    input_shape=(229, 229, 3),\n",
        "    pooling=None,\n",
        "    classes=1000,\n",
        "    classifier_activation=\"linear\",\n",
        ")\n",
        "base_model.trainable = False"
      ],
      "metadata": {
        "id": "l5TG6odOHE3d"
      },
      "execution_count": null,
      "outputs": []
    },
    {
      "cell_type": "code",
      "source": [
        "model_i = tf.keras.Sequential()\n",
        "\n",
        "model_i.add(base_model)\n",
        "model_i.add(tf.keras.layers.GlobalAveragePooling2D())\n",
        "# model.add(keras.layers.Dropout(0.2))\n",
        "model_i.add(Flatten())\n",
        "model_i.add(tf.keras.layers.Dense(512, activation=\"linear\"))\n",
        "model_i.add(tf.keras.layers.Dense(3, activation=\"linear\"))"
      ],
      "metadata": {
        "id": "BuXBO4gxHpgC"
      },
      "execution_count": null,
      "outputs": []
    },
    {
      "cell_type": "code",
      "source": [
        "model_i.compile(loss= tf.keras.losses.SparseCategoricalCrossentropy(from_logits=True), \n",
        "              optimizer='adam',\n",
        "             metrics=['accuracy']\n",
        "              )"
      ],
      "metadata": {
        "id": "RneKEZFoKvUU"
      },
      "execution_count": null,
      "outputs": []
    },
    {
      "cell_type": "code",
      "source": [
        "#Training the Data, training with gpu\n",
        "with tf.device('/device:GPU:0'):\n",
        "  history_i = model_i.fit(train_set, validation_data = val_set,  epochs =20)\n"
      ],
      "metadata": {
        "id": "FOFmtMAzKz1_"
      },
      "execution_count": null,
      "outputs": []
    },
    {
      "cell_type": "code",
      "source": [
        "plt.plot(history_i.history['accuracy'], color= 'red', label = 'train')\n",
        "plt.plot(history_i.history['val_accuracy'], color = 'blue', label = 'Validation')\n",
        "plt.xlabel('No of Epochs')\n",
        "plt.ylabel('Accuracy on test set and Validation set')\n",
        "plt.legend()\n",
        "plt.show()"
      ],
      "metadata": {
        "id": "NeeZR8LJLX9F"
      },
      "execution_count": null,
      "outputs": []
    },
    {
      "cell_type": "code",
      "source": [
        "plt.plot(history_i.history['loss'], color= 'red', label = 'train')\n",
        "plt.plot(history_i.history['val_loss'], color = 'blue', label = 'train')\n",
        "plt.xlabel('No of Epochs')\n",
        "plt.ylabel('Loss on Validation Set set')\n",
        "plt.legend()\n",
        "plt.show()"
      ],
      "metadata": {
        "id": "BgL-L9uVLY8H"
      },
      "execution_count": null,
      "outputs": []
    },
    {
      "cell_type": "code",
      "source": [
        "tf.keras.models.save_model(model_i,'/content/drive/MyDrive/inception_model.h5')"
      ],
      "metadata": {
        "id": "ZEsoefPDLfwF"
      },
      "execution_count": null,
      "outputs": []
    },
    {
      "cell_type": "code",
      "source": [
        "score_i = model_i.evaluate(test_set)"
      ],
      "metadata": {
        "id": "PV61e1PLLl4u"
      },
      "execution_count": null,
      "outputs": []
    }
  ],
  "metadata": {
    "accelerator": "GPU",
    "colab": {
      "provenance": [],
      "include_colab_link": true
    },
    "gpuClass": "standard",
    "kernelspec": {
      "display_name": "Python 3",
      "name": "python3"
    },
    "language_info": {
      "name": "python"
    }
  },
  "nbformat": 4,
  "nbformat_minor": 0
}